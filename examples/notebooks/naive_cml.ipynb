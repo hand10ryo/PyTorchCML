{
 "metadata": {
  "language_info": {
   "codemirror_mode": {
    "name": "ipython",
    "version": 3
   },
   "file_extension": ".py",
   "mimetype": "text/x-python",
   "name": "python",
   "nbconvert_exporter": "python",
   "pygments_lexer": "ipython3",
   "version": "3.8.6"
  },
  "orig_nbformat": 2,
  "kernelspec": {
   "name": "python386jvsc74a57bd098b0a9b7b4eaaa670588a142fd0a9b87eaafe866f1db4228be72b4211d12040f",
   "display_name": "Python 3.8.6 64-bit ('base': conda)"
  }
 },
 "nbformat": 4,
 "nbformat_minor": 2,
 "cells": [
  {
   "cell_type": "code",
   "execution_count": null,
   "metadata": {},
   "outputs": [],
   "source": [
    "# !pip install PytorchCML"
   ]
  },
  {
   "cell_type": "code",
   "execution_count": 1,
   "metadata": {},
   "outputs": [],
   "source": [
    "\n",
    "import sys\n",
    "sys.path.append(\"../../src/\")\n",
    "\n",
    "from itertools import product\n",
    "\n",
    "from PytorchCML import losses, models, samplers, evaluators, trainers\n",
    "import torch\n",
    "from torch import nn, optim\n",
    "import pandas as pd\n",
    "from sklearn.model_selection import train_test_split"
   ]
  },
  {
   "cell_type": "code",
   "execution_count": 2,
   "metadata": {},
   "outputs": [],
   "source": [
    "movielens = pd.read_csv(\n",
    "  'http://files.grouplens.org/datasets/movielens/ml-100k/u.data', \n",
    "  sep='\\t', header=None, index_col=None,\n",
    ")\n",
    "movielens.columns = [\"user_id\", \"item_id\", \"rating\", \"timestamp\"]\n",
    "movielens.user_id -= 1\n",
    "movielens.item_id -= 1\n",
    "movielens.rating = (movielens >= 4).astype(int)\n",
    "n_user = movielens.user_id.nunique()\n",
    "n_item = movielens.item_id.nunique()\n",
    "\n",
    "train, test = train_test_split(movielens)\n",
    "\n",
    "\n",
    "# all user item pairs\n",
    "df_all = pd.DataFrame(\n",
    "    [[u, i] for u,i in product(range(n_user), range(n_item))],\n",
    "    columns=[\"user_id\", \"item_id\"]\n",
    ")\n",
    "\n",
    "# frag train pairs\n",
    "df_all = pd.merge(\n",
    "    df_all, \n",
    "    train[[\"user_id\", \"item_id\", \"rating\"]], \n",
    "    on=[\"user_id\", \"item_id\"], \n",
    "    how=\"left\"\n",
    ")\n",
    "\n",
    "# remove train pairs\n",
    "test = pd.merge(\n",
    "    df_all[df_all.rating.isna()][[\"user_id\", \"item_id\"]], \n",
    "    test[[\"user_id\", \"item_id\", \"rating\"]], \n",
    "    on=[\"user_id\", \"item_id\"], \n",
    "    how=\"left\"\n",
    ").fillna(0)\n",
    "\n",
    "# numpy array\n",
    "train_set = train[train.rating == 1][[\"user_id\", \"item_id\"]].values\n",
    "test_set = test[[\"user_id\", \"item_id\", \"rating\"]].values\n"
   ]
  },
  {
   "cell_type": "code",
   "execution_count": 3,
   "metadata": {},
   "outputs": [],
   "source": [
    "device = torch.device(\"cuda:0\" if torch.cuda.is_available() else \"cpu\")\n",
    "lr = 1e-3\n",
    "n_dim = 10\n",
    "model = models.CollaborativeMetricLearning(n_user, n_item, n_dim).to(device)\n",
    "optimizer = optim.Adam(model.parameters(), lr=lr)\n",
    "criterion = losses.SumTripletLoss(margin=1).to(device)\n",
    "sampler = samplers.BaseSampler(train_set, device=device)\n",
    "\n",
    "score_function_dict = {\n",
    "    \"nDCG\" : evaluators.ndcg,\n",
    "    \"MAP\" : evaluators.average_precision,\n",
    "    \"Recall\": evaluators.recall\n",
    "}\n",
    "evaluator = evaluators.UserwiseEvaluator(torch.LongTensor(test_set).to(device), score_function_dict, ks=[3,5])\n",
    "trainer = trainers.CMLTrainer(model, optimizer, criterion, sampler)\n"
   ]
  },
  {
   "cell_type": "code",
   "execution_count": 4,
   "metadata": {},
   "outputs": [
    {
     "output_type": "stream",
     "name": "stderr",
     "text": [
      "100%|██████████| 943/943 [00:28<00:00, 33.15it/s]\n",
      "epoch1 avg_loss:2468.710: 100%|██████████| 256/256 [00:08<00:00, 29.87it/s]\n",
      "epoch2 avg_loss:2126.647: 100%|██████████| 256/256 [00:08<00:00, 32.00it/s]\n",
      "epoch3 avg_loss:1902.591: 100%|██████████| 256/256 [00:10<00:00, 24.80it/s]\n",
      "epoch4 avg_loss:1765.597: 100%|██████████| 256/256 [00:08<00:00, 28.60it/s]\n",
      "epoch5 avg_loss:1671.571: 100%|██████████| 256/256 [00:07<00:00, 32.32it/s]\n",
      "epoch6 avg_loss:1603.014: 100%|██████████| 256/256 [00:07<00:00, 32.52it/s]\n",
      "epoch7 avg_loss:1541.294: 100%|██████████| 256/256 [00:08<00:00, 30.46it/s]\n",
      "epoch8 avg_loss:1495.709: 100%|██████████| 256/256 [00:08<00:00, 31.10it/s]\n",
      "epoch9 avg_loss:1454.676: 100%|██████████| 256/256 [00:08<00:00, 29.86it/s]\n",
      "epoch10 avg_loss:1416.487: 100%|██████████| 256/256 [00:08<00:00, 30.31it/s]\n",
      "100%|██████████| 943/943 [00:26<00:00, 35.22it/s]\n",
      "epoch11 avg_loss:1368.624: 100%|██████████| 256/256 [00:08<00:00, 31.04it/s]\n",
      "epoch12 avg_loss:1316.535: 100%|██████████| 256/256 [00:09<00:00, 27.41it/s]\n",
      "epoch13 avg_loss:1273.947: 100%|██████████| 256/256 [00:07<00:00, 34.62it/s]\n",
      "epoch14 avg_loss:1225.174: 100%|██████████| 256/256 [00:07<00:00, 35.07it/s]\n",
      "epoch15 avg_loss:1172.074: 100%|██████████| 256/256 [00:07<00:00, 34.78it/s]\n",
      "epoch16 avg_loss:1121.708: 100%|██████████| 256/256 [00:07<00:00, 36.51it/s]\n",
      "epoch17 avg_loss:1065.666: 100%|██████████| 256/256 [00:07<00:00, 36.38it/s]\n",
      "epoch18 avg_loss:1025.333: 100%|██████████| 256/256 [00:06<00:00, 37.23it/s]\n",
      "epoch19 avg_loss:990.869: 100%|██████████| 256/256 [00:08<00:00, 31.20it/s]\n",
      "epoch20 avg_loss:955.959: 100%|██████████| 256/256 [00:07<00:00, 36.01it/s]\n",
      "100%|██████████| 943/943 [00:24<00:00, 39.24it/s]\n"
     ]
    }
   ],
   "source": [
    "trainer.fit(n_batch=256, n_epoch=20, valid_evaluator = evaluator, valid_per_epoch=10)"
   ]
  },
  {
   "cell_type": "code",
   "execution_count": 5,
   "metadata": {},
   "outputs": [
    {
     "output_type": "execute_result",
     "data": {
      "text/plain": [
       "     nDCG@3     MAP@3  Recall@3    nDCG@5     MAP@5  Recall@5  epoch  \\\n",
       "0  0.016551  0.021629  0.001923  0.016080  0.021629  0.002830      0   \n",
       "0  0.033433  0.051361  0.002700  0.034544  0.051361  0.004623     10   \n",
       "0  0.105459  0.091775  0.011414  0.105225  0.091775  0.018991     20   \n",
       "\n",
       "          loss  \n",
       "0          NaN  \n",
       "0  1416.486603  \n",
       "0   955.959306  "
      ],
      "text/html": "<div>\n<style scoped>\n    .dataframe tbody tr th:only-of-type {\n        vertical-align: middle;\n    }\n\n    .dataframe tbody tr th {\n        vertical-align: top;\n    }\n\n    .dataframe thead th {\n        text-align: right;\n    }\n</style>\n<table border=\"1\" class=\"dataframe\">\n  <thead>\n    <tr style=\"text-align: right;\">\n      <th></th>\n      <th>nDCG@3</th>\n      <th>MAP@3</th>\n      <th>Recall@3</th>\n      <th>nDCG@5</th>\n      <th>MAP@5</th>\n      <th>Recall@5</th>\n      <th>epoch</th>\n      <th>loss</th>\n    </tr>\n  </thead>\n  <tbody>\n    <tr>\n      <th>0</th>\n      <td>0.016551</td>\n      <td>0.021629</td>\n      <td>0.001923</td>\n      <td>0.016080</td>\n      <td>0.021629</td>\n      <td>0.002830</td>\n      <td>0</td>\n      <td>NaN</td>\n    </tr>\n    <tr>\n      <th>0</th>\n      <td>0.033433</td>\n      <td>0.051361</td>\n      <td>0.002700</td>\n      <td>0.034544</td>\n      <td>0.051361</td>\n      <td>0.004623</td>\n      <td>10</td>\n      <td>1416.486603</td>\n    </tr>\n    <tr>\n      <th>0</th>\n      <td>0.105459</td>\n      <td>0.091775</td>\n      <td>0.011414</td>\n      <td>0.105225</td>\n      <td>0.091775</td>\n      <td>0.018991</td>\n      <td>20</td>\n      <td>955.959306</td>\n    </tr>\n  </tbody>\n</table>\n</div>"
     },
     "metadata": {},
     "execution_count": 5
    }
   ],
   "source": [
    "trainer.valid_scores"
   ]
  },
  {
   "cell_type": "code",
   "execution_count": null,
   "metadata": {},
   "outputs": [],
   "source": []
  }
 ]
}