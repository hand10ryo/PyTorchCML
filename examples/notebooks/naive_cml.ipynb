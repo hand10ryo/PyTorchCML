{
 "cells": [
  {
   "cell_type": "code",
   "execution_count": null,
   "metadata": {},
   "outputs": [],
   "source": [
    "# !pip install PytorchCML"
   ]
  },
  {
   "cell_type": "code",
   "execution_count": 1,
   "metadata": {},
   "outputs": [],
   "source": [
    "\n",
    "import sys\n",
    "sys.path.append(\"../../src/\")\n",
    "\n",
    "from itertools import product\n",
    "\n",
    "from PytorchCML import losses, models, samplers, evaluators, trainers\n",
    "import torch\n",
    "from torch import nn, optim\n",
    "import pandas as pd\n",
    "from sklearn.model_selection import train_test_split"
   ]
  },
  {
   "cell_type": "code",
   "execution_count": 2,
   "metadata": {},
   "outputs": [],
   "source": [
    "movielens = pd.read_csv(\n",
    "  'http://files.grouplens.org/datasets/movielens/ml-100k/u.data', \n",
    "  sep='\\t', header=None, index_col=None,\n",
    ")\n",
    "movielens.columns = [\"user_id\", \"item_id\", \"rating\", \"timestamp\"]\n",
    "movielens.user_id -= 1\n",
    "movielens.item_id -= 1\n",
    "movielens.rating = (movielens >= 4).astype(int)\n",
    "n_user = movielens.user_id.nunique()\n",
    "n_item = movielens.item_id.nunique()\n",
    "\n",
    "train, test = train_test_split(movielens)\n",
    "\n",
    "\n",
    "# all user item pairs\n",
    "df_all = pd.DataFrame(\n",
    "    [[u, i] for u,i in product(range(n_user), range(n_item))],\n",
    "    columns=[\"user_id\", \"item_id\"]\n",
    ")\n",
    "\n",
    "# frag train pairs\n",
    "df_all = pd.merge(\n",
    "    df_all, \n",
    "    train[[\"user_id\", \"item_id\", \"rating\"]], \n",
    "    on=[\"user_id\", \"item_id\"], \n",
    "    how=\"left\"\n",
    ")\n",
    "\n",
    "# remove train pairs\n",
    "test = pd.merge(\n",
    "    df_all[df_all.rating.isna()][[\"user_id\", \"item_id\"]], \n",
    "    test[[\"user_id\", \"item_id\", \"rating\"]], \n",
    "    on=[\"user_id\", \"item_id\"], \n",
    "    how=\"left\"\n",
    ").fillna(0)\n",
    "\n",
    "# numpy array\n",
    "train_set = train[train.rating == 1][[\"user_id\", \"item_id\"]].values\n",
    "test_set = test[[\"user_id\", \"item_id\", \"rating\"]].values\n"
   ]
  },
  {
   "cell_type": "code",
   "execution_count": 3,
   "metadata": {},
   "outputs": [],
   "source": [
    "device = torch.device(\"cuda:0\" if torch.cuda.is_available() else \"cpu\")\n",
    "lr = 1e-3\n",
    "n_dim = 10\n",
    "model = models.CollaborativeMetricLearning(n_user, n_item, n_dim).to(device)\n",
    "optimizer = optim.Adam(model.parameters(), lr=lr)\n",
    "criterion = losses.SumTripletLoss(margin=1).to(device)\n",
    "sampler = samplers.BaseSampler(train_set, device=device)\n",
    "\n",
    "score_function_dict = {\n",
    "    \"nDCG\" : evaluators.ndcg,\n",
    "    \"MAP\" : evaluators.average_precision,\n",
    "    \"Recall\": evaluators.recall\n",
    "}\n",
    "evaluator = evaluators.UserwiseEvaluator(torch.LongTensor(test_set).to(device), score_function_dict, ks=[3,5])\n",
    "trainer = trainers.CMLTrainer(model, optimizer, criterion, sampler)\n"
   ]
  },
  {
   "cell_type": "code",
   "execution_count": 4,
   "metadata": {},
   "outputs": [
    {
     "output_type": "stream",
     "name": "stderr",
     "text": [
      "100%|██████████| 943/943 [00:26<00:00, 34.96it/s]\n",
      "epoch1 avg_loss:2461.548: 100%|██████████| 256/256 [00:07<00:00, 33.87it/s]\n",
      "epoch2 avg_loss:2113.781: 100%|██████████| 256/256 [00:07<00:00, 35.96it/s]\n",
      "epoch3 avg_loss:1893.162: 100%|██████████| 256/256 [00:07<00:00, 34.44it/s]\n",
      "epoch4 avg_loss:1754.783: 100%|██████████| 256/256 [00:07<00:00, 35.72it/s]\n",
      "epoch5 avg_loss:1675.059: 100%|██████████| 256/256 [00:07<00:00, 35.09it/s]\n",
      "epoch6 avg_loss:1594.093: 100%|██████████| 256/256 [00:08<00:00, 29.38it/s]\n",
      "epoch7 avg_loss:1533.713: 100%|██████████| 256/256 [00:10<00:00, 23.52it/s]\n",
      "epoch8 avg_loss:1479.875: 100%|██████████| 256/256 [00:08<00:00, 31.99it/s]\n",
      "epoch9 avg_loss:1434.429: 100%|██████████| 256/256 [00:08<00:00, 31.17it/s]\n",
      "epoch10 avg_loss:1391.913: 100%|██████████| 256/256 [00:09<00:00, 26.96it/s]\n",
      "100%|██████████| 943/943 [00:23<00:00, 39.47it/s]\n",
      "epoch11 avg_loss:1337.874: 100%|██████████| 256/256 [00:08<00:00, 30.41it/s]\n",
      "epoch12 avg_loss:1297.106: 100%|██████████| 256/256 [00:08<00:00, 31.47it/s]\n",
      "epoch13 avg_loss:1253.214: 100%|██████████| 256/256 [00:08<00:00, 30.50it/s]\n",
      "epoch14 avg_loss:1201.048: 100%|██████████| 256/256 [00:07<00:00, 35.93it/s]\n",
      "epoch15 avg_loss:1163.526: 100%|██████████| 256/256 [00:07<00:00, 32.50it/s]\n",
      "epoch16 avg_loss:1130.934: 100%|██████████| 256/256 [00:07<00:00, 33.99it/s]\n",
      "epoch17 avg_loss:1096.100: 100%|██████████| 256/256 [00:07<00:00, 34.90it/s]\n",
      "epoch18 avg_loss:1063.888: 100%|██████████| 256/256 [00:07<00:00, 32.55it/s]\n",
      "epoch19 avg_loss:1031.027: 100%|██████████| 256/256 [00:07<00:00, 34.89it/s]\n",
      "epoch20 avg_loss:1014.360: 100%|██████████| 256/256 [00:07<00:00, 34.29it/s]\n",
      "100%|██████████| 943/943 [00:23<00:00, 40.01it/s]\n"
     ]
    }
   ],
   "source": [
    "trainer.fit(n_batch=256, n_epoch=20, valid_evaluator = evaluator, valid_per_epoch=10)"
   ]
  },
  {
   "cell_type": "code",
   "execution_count": 5,
   "metadata": {},
   "outputs": [
    {
     "output_type": "execute_result",
     "data": {
      "text/plain": [
       "     nDCG@3     MAP@3  Recall@3    nDCG@5     MAP@5  Recall@5  epoch  \\\n",
       "0  0.016102  0.021095  0.001358  0.016032  0.021095  0.002102      0   \n",
       "0  0.052329  0.083060  0.004330  0.057147  0.083060  0.007573     10   \n",
       "0  0.213748  0.156668  0.025708  0.215053  0.156668  0.043546     20   \n",
       "\n",
       "          loss  \n",
       "0          NaN  \n",
       "0  1391.912951  \n",
       "0  1014.360031  "
      ],
      "text/html": "<div>\n<style scoped>\n    .dataframe tbody tr th:only-of-type {\n        vertical-align: middle;\n    }\n\n    .dataframe tbody tr th {\n        vertical-align: top;\n    }\n\n    .dataframe thead th {\n        text-align: right;\n    }\n</style>\n<table border=\"1\" class=\"dataframe\">\n  <thead>\n    <tr style=\"text-align: right;\">\n      <th></th>\n      <th>nDCG@3</th>\n      <th>MAP@3</th>\n      <th>Recall@3</th>\n      <th>nDCG@5</th>\n      <th>MAP@5</th>\n      <th>Recall@5</th>\n      <th>epoch</th>\n      <th>loss</th>\n    </tr>\n  </thead>\n  <tbody>\n    <tr>\n      <th>0</th>\n      <td>0.016102</td>\n      <td>0.021095</td>\n      <td>0.001358</td>\n      <td>0.016032</td>\n      <td>0.021095</td>\n      <td>0.002102</td>\n      <td>0</td>\n      <td>NaN</td>\n    </tr>\n    <tr>\n      <th>0</th>\n      <td>0.052329</td>\n      <td>0.083060</td>\n      <td>0.004330</td>\n      <td>0.057147</td>\n      <td>0.083060</td>\n      <td>0.007573</td>\n      <td>10</td>\n      <td>1391.912951</td>\n    </tr>\n    <tr>\n      <th>0</th>\n      <td>0.213748</td>\n      <td>0.156668</td>\n      <td>0.025708</td>\n      <td>0.215053</td>\n      <td>0.156668</td>\n      <td>0.043546</td>\n      <td>20</td>\n      <td>1014.360031</td>\n    </tr>\n  </tbody>\n</table>\n</div>"
     },
     "metadata": {},
     "execution_count": 5
    }
   ],
   "source": [
    "trainer.valid_scores"
   ]
  },
  {
   "cell_type": "code",
   "execution_count": null,
   "metadata": {},
   "outputs": [],
   "source": []
  }
 ],
 "metadata": {
  "kernelspec": {
   "name": "python386jvsc74a57bd098b0a9b7b4eaaa670588a142fd0a9b87eaafe866f1db4228be72b4211d12040f",
   "display_name": "Python 3.8.6 64-bit ('base': conda)"
  },
  "language_info": {
   "codemirror_mode": {
    "name": "ipython",
    "version": 3
   },
   "file_extension": ".py",
   "mimetype": "text/x-python",
   "name": "python",
   "nbconvert_exporter": "python",
   "pygments_lexer": "ipython3",
   "version": "3.8.6"
  }
 },
 "nbformat": 4,
 "nbformat_minor": 4
}