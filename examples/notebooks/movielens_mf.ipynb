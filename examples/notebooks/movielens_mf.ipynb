{
 "cells": [
  {
   "cell_type": "code",
   "execution_count": null,
   "metadata": {},
   "outputs": [],
   "source": [
    "# !pip install PytorchCML"
   ]
  },
  {
   "cell_type": "code",
   "execution_count": 1,
   "metadata": {},
   "outputs": [],
   "source": [
    "\n",
    "import sys\n",
    "sys.path.append(\"../../src/\")\n",
    "\n",
    "from itertools import product\n",
    "\n",
    "from PytorchCML import losses, models, samplers, evaluators, trainers\n",
    "import torch\n",
    "from torch import nn, optim\n",
    "import numpy as np\n",
    "import pandas as pd\n",
    "from sklearn.model_selection import train_test_split\n",
    "from sklearn.decomposition import TruncatedSVD\n",
    "from scipy.sparse import csr_matrix"
   ]
  },
  {
   "cell_type": "code",
   "execution_count": 28,
   "metadata": {},
   "outputs": [],
   "source": [
    "def svd_init(M, dim):\n",
    "    svd = TruncatedSVD(n_components=10)\n",
    "    U_ = svd.fit_transform(M)\n",
    "    V_ = svd.components_\n",
    "    S = np.diag(svd.singular_values_)\n",
    "    U = np.dot(U_, np.sqrt(S))\n",
    "    V = np.dot(np.sqrt(S), V_)\n",
    "\n",
    "    return U, V"
   ]
  },
  {
   "cell_type": "code",
   "execution_count": 2,
   "metadata": {},
   "outputs": [],
   "source": [
    "movielens = pd.read_csv(\n",
    "  'http://files.grouplens.org/datasets/movielens/ml-100k/u.data', \n",
    "  sep='\\t', header=None, index_col=None,\n",
    ")\n",
    "movielens.columns = [\"user_id\", \"item_id\", \"rating\", \"timestamp\"]\n",
    "movielens.user_id -= 1\n",
    "movielens.item_id -= 1\n",
    "movielens.rating = (movielens >= 4).astype(int)\n",
    "n_user = movielens.user_id.nunique()\n",
    "n_item = movielens.item_id.nunique()\n",
    "\n",
    "train, test = train_test_split(movielens)\n",
    "\n",
    "\n",
    "# all user item pairs\n",
    "df_all = pd.DataFrame(\n",
    "    [[u, i] for u,i in product(range(n_user), range(n_item))],\n",
    "    columns=[\"user_id\", \"item_id\"]\n",
    ")\n",
    "\n",
    "# frag train pairs\n",
    "df_all = pd.merge(\n",
    "    df_all, \n",
    "    train[[\"user_id\", \"item_id\", \"rating\"]], \n",
    "    on=[\"user_id\", \"item_id\"], \n",
    "    how=\"left\"\n",
    ")\n",
    "\n",
    "# remove train pairs\n",
    "test = pd.merge(\n",
    "    df_all[df_all.rating.isna()][[\"user_id\", \"item_id\"]], \n",
    "    test[[\"user_id\", \"item_id\", \"rating\"]], \n",
    "    on=[\"user_id\", \"item_id\"], \n",
    "    how=\"left\"\n",
    ").fillna(0)\n",
    "\n",
    "# numpy array\n",
    "train_set = train[train.rating == 1][[\"user_id\", \"item_id\"]].values\n",
    "test_set = test[[\"user_id\", \"item_id\", \"rating\"]].values\n"
   ]
  },
  {
   "cell_type": "code",
   "execution_count": 58,
   "metadata": {},
   "outputs": [],
   "source": [
    "X = csr_matrix((np.ones(train_set.shape[0]), (train_set[:,0], train_set[:,1])))\n",
    "U, V = svd_init(X.A*2-1, 10) "
   ]
  },
  {
   "cell_type": "code",
   "execution_count": 72,
   "metadata": {},
   "outputs": [],
   "source": [
    "device = torch.device(\"cuda:0\" if torch.cuda.is_available() else \"cpu\")\n",
    "lr = 1e-3\n",
    "n_dim = 10\n",
    "model = models.LogitMatrixFactorization(\n",
    "    n_user, n_item, n_dim, max_norm=None,\n",
    "    user_embedding_init = torch.Tensor(U), \n",
    "    item_embedding_init = torch.Tensor(V.T)\n",
    ").to(device)\n",
    "\n",
    "optimizer = optim.Adam(model.parameters(), lr=lr)\n",
    "criterion = losses.LogitPairwiseLoss().to(device)\n",
    "sampler = samplers.BaseSampler(train_set, device=device,n_neg_samples=5, batch_size=1024)\n",
    "\n",
    "score_function_dict = {\n",
    "    \"nDCG\" : evaluators.ndcg,\n",
    "    \"MAP\" : evaluators.average_precision,\n",
    "    \"Recall\": evaluators.recall\n",
    "}\n",
    "evaluator = evaluators.UserwiseEvaluator(torch.LongTensor(test_set).to(device), score_function_dict, ks=[3])\n",
    "trainer = trainers.MFTrainer(model, optimizer, criterion, sampler)\n"
   ]
  },
  {
   "cell_type": "code",
   "execution_count": 73,
   "metadata": {},
   "outputs": [
    {
     "output_type": "stream",
     "name": "stderr",
     "text": [
      "100%|██████████| 943/943 [00:14<00:00, 65.79it/s]\n",
      "epoch1 avg_loss:120.264: 100%|██████████| 50/50 [00:01<00:00, 30.63it/s]\n",
      "epoch2 avg_loss:112.442: 100%|██████████| 50/50 [00:01<00:00, 31.99it/s]\n",
      "epoch3 avg_loss:105.246: 100%|██████████| 50/50 [00:01<00:00, 33.64it/s]\n",
      "epoch4 avg_loss:97.551: 100%|██████████| 50/50 [00:01<00:00, 32.44it/s]\n",
      "epoch5 avg_loss:90.533: 100%|██████████| 50/50 [00:01<00:00, 33.15it/s]\n",
      "100%|██████████| 943/943 [00:14<00:00, 65.27it/s]\n",
      "epoch6 avg_loss:83.243: 100%|██████████| 50/50 [00:01<00:00, 37.10it/s]\n",
      "epoch7 avg_loss:76.143: 100%|██████████| 50/50 [00:01<00:00, 33.54it/s]\n",
      "epoch8 avg_loss:69.711: 100%|██████████| 50/50 [00:01<00:00, 33.06it/s]\n",
      "epoch9 avg_loss:63.578: 100%|██████████| 50/50 [00:01<00:00, 32.31it/s]\n",
      "epoch10 avg_loss:57.645: 100%|██████████| 50/50 [00:01<00:00, 33.41it/s]\n",
      "100%|██████████| 943/943 [00:14<00:00, 65.05it/s]\n",
      "epoch11 avg_loss:52.160: 100%|██████████| 50/50 [00:01<00:00, 38.07it/s]\n",
      "epoch12 avg_loss:46.784: 100%|██████████| 50/50 [00:01<00:00, 37.07it/s]\n",
      "epoch13 avg_loss:41.830: 100%|██████████| 50/50 [00:01<00:00, 30.98it/s]\n",
      "epoch14 avg_loss:37.838: 100%|██████████| 50/50 [00:01<00:00, 33.64it/s]\n",
      "epoch15 avg_loss:33.645: 100%|██████████| 50/50 [00:01<00:00, 34.39it/s]\n",
      "100%|██████████| 943/943 [00:14<00:00, 65.96it/s]\n",
      "epoch16 avg_loss:30.362: 100%|██████████| 50/50 [00:01<00:00, 35.02it/s]\n",
      "epoch17 avg_loss:27.615: 100%|██████████| 50/50 [00:01<00:00, 34.76it/s]\n",
      "epoch18 avg_loss:24.843: 100%|██████████| 50/50 [00:01<00:00, 32.62it/s]\n",
      "epoch19 avg_loss:22.801: 100%|██████████| 50/50 [00:01<00:00, 33.53it/s]\n",
      "epoch20 avg_loss:20.807: 100%|██████████| 50/50 [00:01<00:00, 32.30it/s]\n",
      "100%|██████████| 943/943 [00:14<00:00, 63.98it/s]\n"
     ]
    }
   ],
   "source": [
    "trainer.fit(n_batch=50, n_epoch=20, valid_evaluator = evaluator, valid_per_epoch=5)"
   ]
  },
  {
   "cell_type": "code",
   "execution_count": 74,
   "metadata": {},
   "outputs": [
    {
     "output_type": "execute_result",
     "data": {
      "text/plain": [
       "     nDCG@3     MAP@3  Recall@3  epoch       loss\n",
       "0  0.323769  0.172967  0.049898      0        NaN\n",
       "0  0.367278  0.183024  0.054518      5  90.533422\n",
       "0  0.440782  0.202884  0.071053     10  57.645286\n",
       "0  0.446070  0.225799  0.068742     15  33.645416\n",
       "0  0.423904  0.229246  0.066953     20  20.807433"
      ],
      "text/html": "<div>\n<style scoped>\n    .dataframe tbody tr th:only-of-type {\n        vertical-align: middle;\n    }\n\n    .dataframe tbody tr th {\n        vertical-align: top;\n    }\n\n    .dataframe thead th {\n        text-align: right;\n    }\n</style>\n<table border=\"1\" class=\"dataframe\">\n  <thead>\n    <tr style=\"text-align: right;\">\n      <th></th>\n      <th>nDCG@3</th>\n      <th>MAP@3</th>\n      <th>Recall@3</th>\n      <th>epoch</th>\n      <th>loss</th>\n    </tr>\n  </thead>\n  <tbody>\n    <tr>\n      <th>0</th>\n      <td>0.323769</td>\n      <td>0.172967</td>\n      <td>0.049898</td>\n      <td>0</td>\n      <td>NaN</td>\n    </tr>\n    <tr>\n      <th>0</th>\n      <td>0.367278</td>\n      <td>0.183024</td>\n      <td>0.054518</td>\n      <td>5</td>\n      <td>90.533422</td>\n    </tr>\n    <tr>\n      <th>0</th>\n      <td>0.440782</td>\n      <td>0.202884</td>\n      <td>0.071053</td>\n      <td>10</td>\n      <td>57.645286</td>\n    </tr>\n    <tr>\n      <th>0</th>\n      <td>0.446070</td>\n      <td>0.225799</td>\n      <td>0.068742</td>\n      <td>15</td>\n      <td>33.645416</td>\n    </tr>\n    <tr>\n      <th>0</th>\n      <td>0.423904</td>\n      <td>0.229246</td>\n      <td>0.066953</td>\n      <td>20</td>\n      <td>20.807433</td>\n    </tr>\n  </tbody>\n</table>\n</div>"
     },
     "metadata": {},
     "execution_count": 74
    }
   ],
   "source": [
    "trainer.valid_scores"
   ]
  }
 ],
 "metadata": {
  "kernelspec": {
   "name": "python386jvsc74a57bd098b0a9b7b4eaaa670588a142fd0a9b87eaafe866f1db4228be72b4211d12040f",
   "display_name": "Python 3.8.6 64-bit ('base': conda)"
  },
  "language_info": {
   "codemirror_mode": {
    "name": "ipython",
    "version": 3
   },
   "file_extension": ".py",
   "mimetype": "text/x-python",
   "name": "python",
   "nbconvert_exporter": "python",
   "pygments_lexer": "ipython3",
   "version": "3.8.6"
  }
 },
 "nbformat": 4,
 "nbformat_minor": 4
}