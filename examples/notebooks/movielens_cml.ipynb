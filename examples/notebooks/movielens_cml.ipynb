{
 "cells": [
  {
   "cell_type": "code",
   "execution_count": 1,
   "metadata": {},
   "outputs": [],
   "source": [
    "# !pip install PytorchCML"
   ]
  },
  {
   "cell_type": "code",
   "execution_count": 1,
   "metadata": {},
   "outputs": [],
   "source": [
    "import sys\n",
    "sys.path.append(\"../../src/\")\n",
    "\n",
    "from itertools import product\n",
    "\n",
    "from PytorchCML import losses, models, samplers, evaluators, trainers\n",
    "import torch\n",
    "from torch import nn, optim\n",
    "import pandas as pd\n",
    "from sklearn.model_selection import train_test_split"
   ]
  },
  {
   "cell_type": "code",
   "execution_count": 2,
   "metadata": {},
   "outputs": [],
   "source": [
    "movielens = pd.read_csv(\n",
    "  'http://files.grouplens.org/datasets/movielens/ml-100k/u.data', \n",
    "  sep='\\t', header=None, index_col=None,\n",
    ")\n",
    "movielens.columns = [\"user_id\", \"item_id\", \"rating\", \"timestamp\"]\n",
    "movielens.user_id -= 1\n",
    "movielens.item_id -= 1\n",
    "movielens.rating = (movielens >= 4).astype(int)\n",
    "n_user = movielens.user_id.nunique()\n",
    "n_item = movielens.item_id.nunique()\n",
    "\n",
    "train, test = train_test_split(movielens)\n",
    "\n",
    "\n",
    "# all user item pairs\n",
    "df_all = pd.DataFrame(\n",
    "    [[u, i] for u,i in product(range(n_user), range(n_item))],\n",
    "    columns=[\"user_id\", \"item_id\"]\n",
    ")\n",
    "\n",
    "# frag train pairs\n",
    "df_all = pd.merge(\n",
    "    df_all, \n",
    "    train[[\"user_id\", \"item_id\", \"rating\"]], \n",
    "    on=[\"user_id\", \"item_id\"], \n",
    "    how=\"left\"\n",
    ")\n",
    "\n",
    "# remove train pairs\n",
    "test = pd.merge(\n",
    "    df_all[df_all.rating.isna()][[\"user_id\", \"item_id\"]], \n",
    "    test[[\"user_id\", \"item_id\", \"rating\"]], \n",
    "    on=[\"user_id\", \"item_id\"], \n",
    "    how=\"left\"\n",
    ").fillna(0)\n",
    "\n",
    "# numpy array\n",
    "train_set = train[train.rating == 1][[\"user_id\", \"item_id\"]].values\n",
    "test_set = test[[\"user_id\", \"item_id\", \"rating\"]].values\n"
   ]
  },
  {
   "source": [
    "## Strict Negative"
   ],
   "cell_type": "markdown",
   "metadata": {}
  },
  {
   "cell_type": "code",
   "execution_count": 3,
   "metadata": {},
   "outputs": [],
   "source": [
    "device = torch.device(\"cuda:0\" if torch.cuda.is_available() else \"cpu\")\n",
    "lr = 1e-3\n",
    "n_dim = 10\n",
    "model = models.CollaborativeMetricLearning(n_user, n_item, n_dim).to(device)\n",
    "optimizer = optim.Adam(model.parameters(), lr=lr)\n",
    "criterion = losses.SumTripletLoss(margin=1).to(device)\n",
    "sampler = samplers.BaseSampler(train_set, n_user, n_item, device=device, strict_negative=True)\n",
    "\n",
    "score_function_dict = {\n",
    "    \"nDCG\" : evaluators.ndcg,\n",
    "    \"MAP\" : evaluators.average_precision,\n",
    "    \"Recall\": evaluators.recall\n",
    "}\n",
    "evaluator = evaluators.UserwiseEvaluator(torch.LongTensor(test_set).to(device), score_function_dict, ks=[3,5])\n",
    "trainer = trainers.CMLTrainer(model, optimizer, criterion, sampler)\n"
   ]
  },
  {
   "cell_type": "code",
   "execution_count": 4,
   "metadata": {
    "tags": []
   },
   "outputs": [
    {
     "output_type": "stream",
     "name": "stderr",
     "text": [
      "100%|██████████| 943/943 [00:20<00:00, 45.62it/s]\n",
      "epoch1 avg_loss:2417.863: 100%|██████████| 256/256 [00:05<00:00, 50.05it/s]\n",
      "epoch2 avg_loss:2029.371: 100%|██████████| 256/256 [00:05<00:00, 49.94it/s]\n",
      "epoch3 avg_loss:1785.995: 100%|██████████| 256/256 [00:05<00:00, 48.09it/s]\n",
      "epoch4 avg_loss:1634.948: 100%|██████████| 256/256 [00:05<00:00, 44.17it/s]\n",
      "epoch5 avg_loss:1528.421: 100%|██████████| 256/256 [00:05<00:00, 44.09it/s]\n",
      "epoch6 avg_loss:1447.919: 100%|██████████| 256/256 [00:05<00:00, 49.69it/s]\n",
      "epoch7 avg_loss:1379.544: 100%|██████████| 256/256 [00:04<00:00, 51.63it/s]\n",
      "epoch8 avg_loss:1325.176: 100%|██████████| 256/256 [00:05<00:00, 49.94it/s]\n",
      "epoch9 avg_loss:1263.473: 100%|██████████| 256/256 [00:06<00:00, 38.81it/s]\n",
      "epoch10 avg_loss:1212.099: 100%|██████████| 256/256 [00:05<00:00, 47.63it/s]\n",
      "100%|██████████| 943/943 [00:17<00:00, 53.65it/s]\n",
      "epoch11 avg_loss:1144.911: 100%|██████████| 256/256 [00:06<00:00, 40.40it/s]\n",
      "epoch12 avg_loss:1094.742: 100%|██████████| 256/256 [00:06<00:00, 38.24it/s]\n",
      "epoch13 avg_loss:1032.858: 100%|██████████| 256/256 [00:07<00:00, 36.32it/s]\n",
      "epoch14 avg_loss:978.566: 100%|██████████| 256/256 [00:06<00:00, 39.07it/s]\n",
      "epoch15 avg_loss:928.560: 100%|██████████| 256/256 [00:05<00:00, 50.46it/s]\n",
      "epoch16 avg_loss:890.377: 100%|██████████| 256/256 [00:06<00:00, 38.62it/s]\n",
      "epoch17 avg_loss:843.485: 100%|██████████| 256/256 [00:06<00:00, 42.66it/s]\n",
      "epoch18 avg_loss:802.504: 100%|██████████| 256/256 [00:07<00:00, 35.83it/s]\n",
      "epoch19 avg_loss:768.113: 100%|██████████| 256/256 [00:05<00:00, 46.46it/s]\n",
      "epoch20 avg_loss:738.999: 100%|██████████| 256/256 [00:05<00:00, 46.60it/s]\n",
      "100%|██████████| 943/943 [00:15<00:00, 59.91it/s]\n"
     ]
    }
   ],
   "source": [
    "trainer.fit(n_batch=256, n_epoch=20, valid_evaluator = evaluator, valid_per_epoch=10)"
   ]
  },
  {
   "cell_type": "code",
   "execution_count": 5,
   "metadata": {},
   "outputs": [
    {
     "output_type": "execute_result",
     "data": {
      "text/plain": [
       "     nDCG@3     MAP@3  Recall@3    nDCG@5     MAP@5  Recall@5  epoch  \\\n",
       "0  0.015895  0.028455  0.001643  0.015187  0.033086  0.002452      0   \n",
       "0  0.057471  0.091110  0.004146  0.063293  0.107319  0.008038     10   \n",
       "0  0.254217  0.345263  0.029643  0.251258  0.355607  0.048304     20   \n",
       "\n",
       "          loss  \n",
       "0          NaN  \n",
       "0  1212.098991  \n",
       "0   738.998521  "
      ],
      "text/html": "<div>\n<style scoped>\n    .dataframe tbody tr th:only-of-type {\n        vertical-align: middle;\n    }\n\n    .dataframe tbody tr th {\n        vertical-align: top;\n    }\n\n    .dataframe thead th {\n        text-align: right;\n    }\n</style>\n<table border=\"1\" class=\"dataframe\">\n  <thead>\n    <tr style=\"text-align: right;\">\n      <th></th>\n      <th>nDCG@3</th>\n      <th>MAP@3</th>\n      <th>Recall@3</th>\n      <th>nDCG@5</th>\n      <th>MAP@5</th>\n      <th>Recall@5</th>\n      <th>epoch</th>\n      <th>loss</th>\n    </tr>\n  </thead>\n  <tbody>\n    <tr>\n      <th>0</th>\n      <td>0.015895</td>\n      <td>0.028455</td>\n      <td>0.001643</td>\n      <td>0.015187</td>\n      <td>0.033086</td>\n      <td>0.002452</td>\n      <td>0</td>\n      <td>NaN</td>\n    </tr>\n    <tr>\n      <th>0</th>\n      <td>0.057471</td>\n      <td>0.091110</td>\n      <td>0.004146</td>\n      <td>0.063293</td>\n      <td>0.107319</td>\n      <td>0.008038</td>\n      <td>10</td>\n      <td>1212.098991</td>\n    </tr>\n    <tr>\n      <th>0</th>\n      <td>0.254217</td>\n      <td>0.345263</td>\n      <td>0.029643</td>\n      <td>0.251258</td>\n      <td>0.355607</td>\n      <td>0.048304</td>\n      <td>20</td>\n      <td>738.998521</td>\n    </tr>\n  </tbody>\n</table>\n</div>"
     },
     "metadata": {},
     "execution_count": 5
    }
   ],
   "source": [
    "trainer.valid_scores"
   ]
  },
  {
   "source": [
    "## Not Strict Negative"
   ],
   "cell_type": "markdown",
   "metadata": {}
  },
  {
   "cell_type": "code",
   "execution_count": 7,
   "metadata": {},
   "outputs": [],
   "source": [
    "device = torch.device(\"cuda:0\" if torch.cuda.is_available() else \"cpu\")\n",
    "lr = 1e-3\n",
    "n_dim = 10\n",
    "model = models.CollaborativeMetricLearning(n_user, n_item, n_dim).to(device)\n",
    "optimizer = optim.Adam(model.parameters(), lr=lr)\n",
    "criterion = losses.SumTripletLoss(margin=1).to(device)\n",
    "sampler = samplers.BaseSampler(train_set, n_user, n_item, device=device, strict_negative=False)\n",
    "\n",
    "score_function_dict = {\n",
    "    \"nDCG\" : evaluators.ndcg,\n",
    "    \"MAP\" : evaluators.average_precision,\n",
    "    \"Recall\": evaluators.recall\n",
    "}\n",
    "evaluator = evaluators.UserwiseEvaluator(torch.LongTensor(test_set).to(device), score_function_dict, ks=[3,5])\n",
    "trainer = trainers.CMLTrainer(model, optimizer, criterion, sampler)\n"
   ]
  },
  {
   "cell_type": "code",
   "execution_count": 8,
   "metadata": {},
   "outputs": [
    {
     "output_type": "stream",
     "name": "stderr",
     "text": [
      "100%|██████████| 943/943 [00:24<00:00, 39.20it/s]\n",
      "epoch1 avg_loss:2469.205: 100%|██████████| 256/256 [00:07<00:00, 36.51it/s]\n",
      "epoch2 avg_loss:2108.801: 100%|██████████| 256/256 [00:06<00:00, 38.02it/s]\n",
      "epoch3 avg_loss:1889.620: 100%|██████████| 256/256 [00:06<00:00, 38.20it/s]\n",
      "epoch4 avg_loss:1743.818: 100%|██████████| 256/256 [00:07<00:00, 35.12it/s]\n",
      "epoch5 avg_loss:1651.228: 100%|██████████| 256/256 [00:07<00:00, 35.37it/s]\n",
      "epoch6 avg_loss:1571.239: 100%|██████████| 256/256 [00:07<00:00, 34.43it/s]\n",
      "epoch7 avg_loss:1510.154: 100%|██████████| 256/256 [00:06<00:00, 38.94it/s]\n",
      "epoch8 avg_loss:1451.868: 100%|██████████| 256/256 [00:06<00:00, 39.00it/s]\n",
      "epoch9 avg_loss:1402.361: 100%|██████████| 256/256 [00:06<00:00, 39.72it/s]\n",
      "epoch10 avg_loss:1345.827: 100%|██████████| 256/256 [00:08<00:00, 31.77it/s]\n",
      "100%|██████████| 943/943 [00:24<00:00, 38.08it/s]\n",
      "epoch11 avg_loss:1304.188: 100%|██████████| 256/256 [00:08<00:00, 30.44it/s]\n",
      "epoch12 avg_loss:1247.203: 100%|██████████| 256/256 [00:07<00:00, 33.82it/s]\n",
      "epoch13 avg_loss:1197.018: 100%|██████████| 256/256 [00:07<00:00, 33.24it/s]\n",
      "epoch14 avg_loss:1148.023: 100%|██████████| 256/256 [00:07<00:00, 35.71it/s]\n",
      "epoch15 avg_loss:1108.953: 100%|██████████| 256/256 [00:07<00:00, 35.79it/s]\n",
      "epoch16 avg_loss:1056.437: 100%|██████████| 256/256 [00:08<00:00, 30.51it/s]\n",
      "epoch17 avg_loss:1015.416: 100%|██████████| 256/256 [00:09<00:00, 28.42it/s]\n",
      "epoch18 avg_loss:982.563: 100%|██████████| 256/256 [00:07<00:00, 33.63it/s]\n",
      "epoch19 avg_loss:955.431: 100%|██████████| 256/256 [00:07<00:00, 35.79it/s]\n",
      "epoch20 avg_loss:925.399: 100%|██████████| 256/256 [00:08<00:00, 31.42it/s]\n",
      "100%|██████████| 943/943 [00:25<00:00, 36.62it/s]\n"
     ]
    }
   ],
   "source": [
    "trainer.fit(n_batch=256, n_epoch=20, valid_evaluator = evaluator, valid_per_epoch=10)"
   ]
  },
  {
   "cell_type": "code",
   "execution_count": 9,
   "metadata": {},
   "outputs": [
    {
     "output_type": "execute_result",
     "data": {
      "text/plain": [
       "     nDCG@3     MAP@3  Recall@3    nDCG@5     MAP@5  Recall@5  epoch  \\\n",
       "0  0.019532  0.034376  0.002140  0.020022  0.040712  0.003958      0   \n",
       "0  0.059776  0.093319  0.005672  0.064944  0.111475  0.009510     10   \n",
       "0  0.255193  0.344291  0.030209  0.251102  0.359304  0.050676     20   \n",
       "\n",
       "          loss  \n",
       "0          NaN  \n",
       "0  1345.827259  \n",
       "0   925.398547  "
      ],
      "text/html": "<div>\n<style scoped>\n    .dataframe tbody tr th:only-of-type {\n        vertical-align: middle;\n    }\n\n    .dataframe tbody tr th {\n        vertical-align: top;\n    }\n\n    .dataframe thead th {\n        text-align: right;\n    }\n</style>\n<table border=\"1\" class=\"dataframe\">\n  <thead>\n    <tr style=\"text-align: right;\">\n      <th></th>\n      <th>nDCG@3</th>\n      <th>MAP@3</th>\n      <th>Recall@3</th>\n      <th>nDCG@5</th>\n      <th>MAP@5</th>\n      <th>Recall@5</th>\n      <th>epoch</th>\n      <th>loss</th>\n    </tr>\n  </thead>\n  <tbody>\n    <tr>\n      <th>0</th>\n      <td>0.019532</td>\n      <td>0.034376</td>\n      <td>0.002140</td>\n      <td>0.020022</td>\n      <td>0.040712</td>\n      <td>0.003958</td>\n      <td>0</td>\n      <td>NaN</td>\n    </tr>\n    <tr>\n      <th>0</th>\n      <td>0.059776</td>\n      <td>0.093319</td>\n      <td>0.005672</td>\n      <td>0.064944</td>\n      <td>0.111475</td>\n      <td>0.009510</td>\n      <td>10</td>\n      <td>1345.827259</td>\n    </tr>\n    <tr>\n      <th>0</th>\n      <td>0.255193</td>\n      <td>0.344291</td>\n      <td>0.030209</td>\n      <td>0.251102</td>\n      <td>0.359304</td>\n      <td>0.050676</td>\n      <td>20</td>\n      <td>925.398547</td>\n    </tr>\n  </tbody>\n</table>\n</div>"
     },
     "metadata": {},
     "execution_count": 9
    }
   ],
   "source": [
    "trainer.valid_scores"
   ]
  }
 ],
 "metadata": {
  "kernelspec": {
   "name": "python386jvsc74a57bd098b0a9b7b4eaaa670588a142fd0a9b87eaafe866f1db4228be72b4211d12040f",
   "display_name": "Python 3.8.6 64-bit ('base': conda)"
  },
  "language_info": {
   "codemirror_mode": {
    "name": "ipython",
    "version": 3
   },
   "file_extension": ".py",
   "mimetype": "text/x-python",
   "name": "python",
   "nbconvert_exporter": "python",
   "pygments_lexer": "ipython3",
   "version": "3.8.6"
  }
 },
 "nbformat": 4,
 "nbformat_minor": 4
}