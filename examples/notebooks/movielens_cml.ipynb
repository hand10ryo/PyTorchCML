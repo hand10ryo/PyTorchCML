{
 "cells": [
  {
   "cell_type": "code",
   "execution_count": 1,
   "metadata": {},
   "outputs": [],
   "source": [
    "# !pip install PytorchCML"
   ]
  },
  {
   "cell_type": "code",
   "execution_count": 1,
   "metadata": {},
   "outputs": [],
   "source": [
    "import sys\n",
    "sys.path.append(\"../../src/\")\n",
    "\n",
    "from itertools import product\n",
    "\n",
    "from PytorchCML import losses, models, samplers, regularizers, evaluators, trainers\n",
    "import torch\n",
    "from torch import nn, optim\n",
    "import pandas as pd\n",
    "import numpy as np\n",
    "from sklearn.model_selection import train_test_split\n",
    "from sklearn.decomposition import TruncatedSVD\n",
    "from scipy.sparse import csr_matrix"
   ]
  },
  {
   "cell_type": "code",
   "execution_count": 3,
   "metadata": {},
   "outputs": [],
   "source": [
    "movielens = pd.read_csv(\n",
    "  'http://files.grouplens.org/datasets/movielens/ml-100k/u.data', \n",
    "  sep='\\t', header=None, index_col=None,\n",
    ")\n",
    "movielens.columns = [\"user_id\", \"item_id\", \"rating\", \"timestamp\"]\n",
    "movielens.user_id -= 1\n",
    "movielens.item_id -= 1\n",
    "movielens.rating = (movielens >= 4).astype(int)\n",
    "n_user = movielens.user_id.nunique()\n",
    "n_item = movielens.item_id.nunique()\n",
    "\n",
    "train, test = train_test_split(movielens)\n",
    "\n",
    "\n",
    "# all user item pairs\n",
    "df_all = pd.DataFrame(\n",
    "    [[u, i] for u,i in product(range(n_user), range(n_item))],\n",
    "    columns=[\"user_id\", \"item_id\"]\n",
    ")\n",
    "\n",
    "# frag train pairs\n",
    "df_all = pd.merge(\n",
    "    df_all, \n",
    "    train[[\"user_id\", \"item_id\", \"rating\"]], \n",
    "    on=[\"user_id\", \"item_id\"], \n",
    "    how=\"left\"\n",
    ")\n",
    "\n",
    "# remove train pairs\n",
    "test = pd.merge(\n",
    "    df_all[df_all.rating.isna()][[\"user_id\", \"item_id\"]], \n",
    "    test[[\"user_id\", \"item_id\", \"rating\"]], \n",
    "    on=[\"user_id\", \"item_id\"], \n",
    "    how=\"left\"\n",
    ").fillna(0)\n",
    "\n",
    "# numpy array\n",
    "train_set = train[train.rating == 1][[\"user_id\", \"item_id\"]].values\n",
    "test_set = test[[\"user_id\", \"item_id\", \"rating\"]].values\n",
    "\n",
    "# to torch.Tensor\n",
    "device = torch.device(\"cuda:0\" if torch.cuda.is_available() else \"cpu\")\n",
    "train_set = torch.LongTensor(train_set).to(device)\n",
    "test_set = torch.LongTensor(test_set).to(device)\n"
   ]
  },
  {
   "source": [
    "## Defalt"
   ],
   "cell_type": "markdown",
   "metadata": {}
  },
  {
   "cell_type": "code",
   "execution_count": 3,
   "metadata": {},
   "outputs": [],
   "source": [
    "lr = 1e-3\n",
    "n_dim = 10\n",
    "model = models.CollaborativeMetricLearning(n_user, n_item, n_dim).to(device)\n",
    "optimizer = optim.Adam(model.parameters(), lr=lr)\n",
    "criterion = losses.SumTripletLoss(margin=1).to(device)\n",
    "sampler = samplers.BaseSampler(train_set, n_user, n_item, device=device, strict_negative=False)\n",
    "\n",
    "score_function_dict = {\n",
    "    \"nDCG\" : evaluators.ndcg,\n",
    "    \"MAP\" : evaluators.average_precision,\n",
    "    \"Recall\": evaluators.recall\n",
    "}\n",
    "evaluator = evaluators.UserwiseEvaluator(test_set, score_function_dict, ks=[3,5])\n",
    "trainer = trainers.CMLTrainer(model, optimizer, criterion, sampler)\n"
   ]
  },
  {
   "cell_type": "code",
   "execution_count": 4,
   "metadata": {},
   "outputs": [
    {
     "output_type": "stream",
     "name": "stderr",
     "text": [
      "100%|██████████| 943/943 [00:30<00:00, 30.43it/s]\n",
      "epoch1 avg_loss:0.962: 100%|██████████| 256/256 [00:09<00:00, 28.20it/s]\n",
      "epoch2 avg_loss:0.821: 100%|██████████| 256/256 [00:08<00:00, 31.99it/s]\n",
      "epoch3 avg_loss:0.734: 100%|██████████| 256/256 [00:08<00:00, 28.68it/s]\n",
      "epoch4 avg_loss:0.680: 100%|██████████| 256/256 [00:08<00:00, 31.42it/s]\n",
      "epoch5 avg_loss:0.641: 100%|██████████| 256/256 [00:07<00:00, 33.17it/s]\n",
      "epoch6 avg_loss:0.614: 100%|██████████| 256/256 [00:06<00:00, 38.52it/s]\n",
      "epoch7 avg_loss:0.588: 100%|██████████| 256/256 [00:07<00:00, 36.17it/s]\n",
      "epoch8 avg_loss:0.559: 100%|██████████| 256/256 [00:08<00:00, 31.81it/s]\n",
      "epoch9 avg_loss:0.541: 100%|██████████| 256/256 [00:07<00:00, 34.14it/s]\n",
      "epoch10 avg_loss:0.521: 100%|██████████| 256/256 [00:08<00:00, 28.69it/s]\n",
      "100%|██████████| 943/943 [00:32<00:00, 29.28it/s]\n",
      "epoch11 avg_loss:0.502: 100%|██████████| 256/256 [00:07<00:00, 35.26it/s]\n",
      "epoch12 avg_loss:0.483: 100%|██████████| 256/256 [00:07<00:00, 34.86it/s]\n",
      "epoch13 avg_loss:0.464: 100%|██████████| 256/256 [00:07<00:00, 32.53it/s]\n",
      "epoch14 avg_loss:0.447: 100%|██████████| 256/256 [00:07<00:00, 32.07it/s]\n",
      "epoch15 avg_loss:0.434: 100%|██████████| 256/256 [00:08<00:00, 30.02it/s]\n",
      "epoch16 avg_loss:0.420: 100%|██████████| 256/256 [00:04<00:00, 53.49it/s]\n",
      "epoch17 avg_loss:0.404: 100%|██████████| 256/256 [00:04<00:00, 53.01it/s]\n",
      "epoch18 avg_loss:0.391: 100%|██████████| 256/256 [00:04<00:00, 57.29it/s]\n",
      "epoch19 avg_loss:0.378: 100%|██████████| 256/256 [00:04<00:00, 57.08it/s]\n",
      "epoch20 avg_loss:0.367: 100%|██████████| 256/256 [00:04<00:00, 53.84it/s]\n",
      "100%|██████████| 943/943 [00:18<00:00, 49.84it/s]\n"
     ]
    }
   ],
   "source": [
    "trainer.fit(n_batch=256, n_epoch=20, valid_evaluator = evaluator, valid_per_epoch=10)"
   ]
  },
  {
   "cell_type": "code",
   "execution_count": 5,
   "metadata": {},
   "outputs": [
    {
     "output_type": "execute_result",
     "data": {
      "text/plain": [
       "     nDCG@3     MAP@3  Recall@3    nDCG@5     MAP@5  Recall@5  epoch      loss\n",
       "0  0.018667  0.033051  0.002104  0.019511  0.040509  0.003674      0       NaN\n",
       "0  0.079036  0.119477  0.006106  0.078784  0.132808  0.009886     10  0.520977\n",
       "0  0.240874  0.331478  0.028101  0.244704  0.348947  0.048870     20  0.366803"
      ],
      "text/html": "<div>\n<style scoped>\n    .dataframe tbody tr th:only-of-type {\n        vertical-align: middle;\n    }\n\n    .dataframe tbody tr th {\n        vertical-align: top;\n    }\n\n    .dataframe thead th {\n        text-align: right;\n    }\n</style>\n<table border=\"1\" class=\"dataframe\">\n  <thead>\n    <tr style=\"text-align: right;\">\n      <th></th>\n      <th>nDCG@3</th>\n      <th>MAP@3</th>\n      <th>Recall@3</th>\n      <th>nDCG@5</th>\n      <th>MAP@5</th>\n      <th>Recall@5</th>\n      <th>epoch</th>\n      <th>loss</th>\n    </tr>\n  </thead>\n  <tbody>\n    <tr>\n      <th>0</th>\n      <td>0.018667</td>\n      <td>0.033051</td>\n      <td>0.002104</td>\n      <td>0.019511</td>\n      <td>0.040509</td>\n      <td>0.003674</td>\n      <td>0</td>\n      <td>NaN</td>\n    </tr>\n    <tr>\n      <th>0</th>\n      <td>0.079036</td>\n      <td>0.119477</td>\n      <td>0.006106</td>\n      <td>0.078784</td>\n      <td>0.132808</td>\n      <td>0.009886</td>\n      <td>10</td>\n      <td>0.520977</td>\n    </tr>\n    <tr>\n      <th>0</th>\n      <td>0.240874</td>\n      <td>0.331478</td>\n      <td>0.028101</td>\n      <td>0.244704</td>\n      <td>0.348947</td>\n      <td>0.048870</td>\n      <td>20</td>\n      <td>0.366803</td>\n    </tr>\n  </tbody>\n</table>\n</div>"
     },
     "metadata": {},
     "execution_count": 5
    }
   ],
   "source": [
    "trainer.valid_scores"
   ]
  },
  {
   "source": [
    "## Strict Negative"
   ],
   "cell_type": "markdown",
   "metadata": {}
  },
  {
   "cell_type": "code",
   "execution_count": 3,
   "metadata": {},
   "outputs": [],
   "source": [
    "lr = 1e-3\n",
    "n_dim = 10\n",
    "model = models.CollaborativeMetricLearning(n_user, n_item, n_dim).to(device)\n",
    "optimizer = optim.Adam(model.parameters(), lr=lr)\n",
    "criterion = losses.SumTripletLoss(margin=1).to(device)\n",
    "sampler = samplers.BaseSampler(train_set, n_user, n_item, device=device, strict_negative=True)\n",
    "\n",
    "score_function_dict = {\n",
    "    \"nDCG\" : evaluators.ndcg,\n",
    "    \"MAP\" : evaluators.average_precision,\n",
    "    \"Recall\": evaluators.recall\n",
    "}\n",
    "evaluator = evaluators.UserwiseEvaluator(test_set, score_function_dict, ks=[3,5])\n",
    "trainer = trainers.CMLTrainer(model, optimizer, criterion, sampler)\n"
   ]
  },
  {
   "cell_type": "code",
   "execution_count": 4,
   "metadata": {
    "tags": []
   },
   "outputs": [
    {
     "output_type": "stream",
     "name": "stderr",
     "text": [
      "100%|██████████| 943/943 [00:20<00:00, 45.62it/s]\n",
      "epoch1 avg_loss:2417.863: 100%|██████████| 256/256 [00:05<00:00, 50.05it/s]\n",
      "epoch2 avg_loss:2029.371: 100%|██████████| 256/256 [00:05<00:00, 49.94it/s]\n",
      "epoch3 avg_loss:1785.995: 100%|██████████| 256/256 [00:05<00:00, 48.09it/s]\n",
      "epoch4 avg_loss:1634.948: 100%|██████████| 256/256 [00:05<00:00, 44.17it/s]\n",
      "epoch5 avg_loss:1528.421: 100%|██████████| 256/256 [00:05<00:00, 44.09it/s]\n",
      "epoch6 avg_loss:1447.919: 100%|██████████| 256/256 [00:05<00:00, 49.69it/s]\n",
      "epoch7 avg_loss:1379.544: 100%|██████████| 256/256 [00:04<00:00, 51.63it/s]\n",
      "epoch8 avg_loss:1325.176: 100%|██████████| 256/256 [00:05<00:00, 49.94it/s]\n",
      "epoch9 avg_loss:1263.473: 100%|██████████| 256/256 [00:06<00:00, 38.81it/s]\n",
      "epoch10 avg_loss:1212.099: 100%|██████████| 256/256 [00:05<00:00, 47.63it/s]\n",
      "100%|██████████| 943/943 [00:17<00:00, 53.65it/s]\n",
      "epoch11 avg_loss:1144.911: 100%|██████████| 256/256 [00:06<00:00, 40.40it/s]\n",
      "epoch12 avg_loss:1094.742: 100%|██████████| 256/256 [00:06<00:00, 38.24it/s]\n",
      "epoch13 avg_loss:1032.858: 100%|██████████| 256/256 [00:07<00:00, 36.32it/s]\n",
      "epoch14 avg_loss:978.566: 100%|██████████| 256/256 [00:06<00:00, 39.07it/s]\n",
      "epoch15 avg_loss:928.560: 100%|██████████| 256/256 [00:05<00:00, 50.46it/s]\n",
      "epoch16 avg_loss:890.377: 100%|██████████| 256/256 [00:06<00:00, 38.62it/s]\n",
      "epoch17 avg_loss:843.485: 100%|██████████| 256/256 [00:06<00:00, 42.66it/s]\n",
      "epoch18 avg_loss:802.504: 100%|██████████| 256/256 [00:07<00:00, 35.83it/s]\n",
      "epoch19 avg_loss:768.113: 100%|██████████| 256/256 [00:05<00:00, 46.46it/s]\n",
      "epoch20 avg_loss:738.999: 100%|██████████| 256/256 [00:05<00:00, 46.60it/s]\n",
      "100%|██████████| 943/943 [00:15<00:00, 59.91it/s]\n"
     ]
    }
   ],
   "source": [
    "trainer.fit(n_batch=256, n_epoch=20, valid_evaluator = evaluator, valid_per_epoch=10)"
   ]
  },
  {
   "cell_type": "code",
   "execution_count": 5,
   "metadata": {},
   "outputs": [
    {
     "output_type": "execute_result",
     "data": {
      "text/plain": [
       "     nDCG@3     MAP@3  Recall@3    nDCG@5     MAP@5  Recall@5  epoch  \\\n",
       "0  0.015895  0.028455  0.001643  0.015187  0.033086  0.002452      0   \n",
       "0  0.057471  0.091110  0.004146  0.063293  0.107319  0.008038     10   \n",
       "0  0.254217  0.345263  0.029643  0.251258  0.355607  0.048304     20   \n",
       "\n",
       "          loss  \n",
       "0          NaN  \n",
       "0  1212.098991  \n",
       "0   738.998521  "
      ],
      "text/html": "<div>\n<style scoped>\n    .dataframe tbody tr th:only-of-type {\n        vertical-align: middle;\n    }\n\n    .dataframe tbody tr th {\n        vertical-align: top;\n    }\n\n    .dataframe thead th {\n        text-align: right;\n    }\n</style>\n<table border=\"1\" class=\"dataframe\">\n  <thead>\n    <tr style=\"text-align: right;\">\n      <th></th>\n      <th>nDCG@3</th>\n      <th>MAP@3</th>\n      <th>Recall@3</th>\n      <th>nDCG@5</th>\n      <th>MAP@5</th>\n      <th>Recall@5</th>\n      <th>epoch</th>\n      <th>loss</th>\n    </tr>\n  </thead>\n  <tbody>\n    <tr>\n      <th>0</th>\n      <td>0.015895</td>\n      <td>0.028455</td>\n      <td>0.001643</td>\n      <td>0.015187</td>\n      <td>0.033086</td>\n      <td>0.002452</td>\n      <td>0</td>\n      <td>NaN</td>\n    </tr>\n    <tr>\n      <th>0</th>\n      <td>0.057471</td>\n      <td>0.091110</td>\n      <td>0.004146</td>\n      <td>0.063293</td>\n      <td>0.107319</td>\n      <td>0.008038</td>\n      <td>10</td>\n      <td>1212.098991</td>\n    </tr>\n    <tr>\n      <th>0</th>\n      <td>0.254217</td>\n      <td>0.345263</td>\n      <td>0.029643</td>\n      <td>0.251258</td>\n      <td>0.355607</td>\n      <td>0.048304</td>\n      <td>20</td>\n      <td>738.998521</td>\n    </tr>\n  </tbody>\n</table>\n</div>"
     },
     "metadata": {},
     "execution_count": 5
    }
   ],
   "source": [
    "trainer.valid_scores"
   ]
  },
  {
   "source": [
    "## Global Orthogonal Regularization"
   ],
   "cell_type": "markdown",
   "metadata": {}
  },
  {
   "cell_type": "code",
   "execution_count": 6,
   "metadata": {},
   "outputs": [],
   "source": [
    "lr = 1e-3\n",
    "n_dim = 10\n",
    "model = models.CollaborativeMetricLearning(n_user, n_item, n_dim).to(device)\n",
    "optimizer = optim.Adam(model.parameters(), lr=lr)\n",
    "regs = [regularizers.GlobalOrthogonalRegularizer(weight=1e-2)]\n",
    "criterion = losses.SumTripletLoss(margin=1, regularizers=regs).to(device)\n",
    "sampler = samplers.BaseSampler(train_set, n_user, n_item, device=device, strict_negative=True)\n",
    "\n",
    "score_function_dict = {\n",
    "    \"nDCG\" : evaluators.ndcg,\n",
    "    \"MAP\" : evaluators.average_precision,\n",
    "    \"Recall\": evaluators.recall\n",
    "}\n",
    "evaluator = evaluators.UserwiseEvaluator(test_set, score_function_dict, ks=[3,5])\n",
    "trainer = trainers.CMLTrainer(model, optimizer, criterion, sampler)"
   ]
  },
  {
   "cell_type": "code",
   "execution_count": 7,
   "metadata": {},
   "outputs": [
    {
     "output_type": "stream",
     "name": "stderr",
     "text": [
      "100%|██████████| 943/943 [00:16<00:00, 58.07it/s]\n",
      "epoch1 avg_loss:0.949: 100%|██████████| 256/256 [00:06<00:00, 39.48it/s]\n",
      "epoch2 avg_loss:0.794: 100%|██████████| 256/256 [00:05<00:00, 45.86it/s]\n",
      "epoch3 avg_loss:0.701: 100%|██████████| 256/256 [00:05<00:00, 45.36it/s]\n",
      "epoch4 avg_loss:0.635: 100%|██████████| 256/256 [00:06<00:00, 40.16it/s]\n",
      "epoch5 avg_loss:0.591: 100%|██████████| 256/256 [00:05<00:00, 46.39it/s]\n",
      "epoch6 avg_loss:0.560: 100%|██████████| 256/256 [00:05<00:00, 46.34it/s]\n",
      "epoch7 avg_loss:0.529: 100%|██████████| 256/256 [00:05<00:00, 48.27it/s]\n",
      "epoch8 avg_loss:0.504: 100%|██████████| 256/256 [00:05<00:00, 47.73it/s]\n",
      "epoch9 avg_loss:0.473: 100%|██████████| 256/256 [00:05<00:00, 46.01it/s]\n",
      "epoch10 avg_loss:0.448: 100%|██████████| 256/256 [00:05<00:00, 47.51it/s]\n",
      "100%|██████████| 943/943 [00:16<00:00, 56.99it/s]\n",
      "epoch11 avg_loss:0.425: 100%|██████████| 256/256 [00:05<00:00, 45.93it/s]\n",
      "epoch12 avg_loss:0.402: 100%|██████████| 256/256 [00:06<00:00, 41.36it/s]\n",
      "epoch13 avg_loss:0.380: 100%|██████████| 256/256 [00:05<00:00, 47.21it/s]\n",
      "epoch14 avg_loss:0.362: 100%|██████████| 256/256 [00:06<00:00, 41.12it/s]\n",
      "epoch15 avg_loss:0.341: 100%|██████████| 256/256 [00:06<00:00, 41.19it/s]\n",
      "epoch16 avg_loss:0.329: 100%|██████████| 256/256 [00:05<00:00, 46.64it/s]\n",
      "epoch17 avg_loss:0.310: 100%|██████████| 256/256 [00:05<00:00, 46.61it/s]\n",
      "epoch18 avg_loss:0.299: 100%|██████████| 256/256 [00:05<00:00, 47.67it/s]\n",
      "epoch19 avg_loss:0.287: 100%|██████████| 256/256 [00:06<00:00, 40.60it/s]\n",
      "epoch20 avg_loss:0.278: 100%|██████████| 256/256 [00:05<00:00, 42.73it/s]\n",
      "100%|██████████| 943/943 [00:16<00:00, 57.42it/s]\n"
     ]
    }
   ],
   "source": [
    "trainer.fit(n_batch=256, n_epoch=20, valid_evaluator = evaluator, valid_per_epoch=10)"
   ]
  },
  {
   "cell_type": "code",
   "execution_count": 8,
   "metadata": {},
   "outputs": [
    {
     "output_type": "execute_result",
     "data": {
      "text/plain": [
       "     nDCG@3     MAP@3  Recall@3    nDCG@5     MAP@5  Recall@5  epoch      loss\n",
       "0  0.014230  0.025097  0.001684  0.014524  0.030877  0.002610      0       NaN\n",
       "0  0.074575  0.116472  0.005911  0.080112  0.130880  0.010192     10  0.447714\n",
       "0  0.274891  0.366826  0.033157  0.272943  0.381603  0.055453     20  0.278262"
      ],
      "text/html": "<div>\n<style scoped>\n    .dataframe tbody tr th:only-of-type {\n        vertical-align: middle;\n    }\n\n    .dataframe tbody tr th {\n        vertical-align: top;\n    }\n\n    .dataframe thead th {\n        text-align: right;\n    }\n</style>\n<table border=\"1\" class=\"dataframe\">\n  <thead>\n    <tr style=\"text-align: right;\">\n      <th></th>\n      <th>nDCG@3</th>\n      <th>MAP@3</th>\n      <th>Recall@3</th>\n      <th>nDCG@5</th>\n      <th>MAP@5</th>\n      <th>Recall@5</th>\n      <th>epoch</th>\n      <th>loss</th>\n    </tr>\n  </thead>\n  <tbody>\n    <tr>\n      <th>0</th>\n      <td>0.014230</td>\n      <td>0.025097</td>\n      <td>0.001684</td>\n      <td>0.014524</td>\n      <td>0.030877</td>\n      <td>0.002610</td>\n      <td>0</td>\n      <td>NaN</td>\n    </tr>\n    <tr>\n      <th>0</th>\n      <td>0.074575</td>\n      <td>0.116472</td>\n      <td>0.005911</td>\n      <td>0.080112</td>\n      <td>0.130880</td>\n      <td>0.010192</td>\n      <td>10</td>\n      <td>0.447714</td>\n    </tr>\n    <tr>\n      <th>0</th>\n      <td>0.274891</td>\n      <td>0.366826</td>\n      <td>0.033157</td>\n      <td>0.272943</td>\n      <td>0.381603</td>\n      <td>0.055453</td>\n      <td>20</td>\n      <td>0.278262</td>\n    </tr>\n  </tbody>\n</table>\n</div>"
     },
     "metadata": {},
     "execution_count": 8
    }
   ],
   "source": [
    "trainer.valid_scores"
   ]
  },
  {
   "cell_type": "code",
   "execution_count": 3,
   "metadata": {},
   "outputs": [],
   "source": []
  },
  {
   "source": [
    "## Two Stage"
   ],
   "cell_type": "markdown",
   "metadata": {}
  },
  {
   "cell_type": "code",
   "execution_count": 32,
   "metadata": {},
   "outputs": [],
   "source": [
    "item_count = train.groupby(\"item_id\")[\"user_id\"].count()\n",
    "count_index = np.array(item_count.index)\n",
    "neg_weight = np.zeros(n_item)\n",
    "neg_weight[count_index] = item_count ** 0.1"
   ]
  },
  {
   "cell_type": "code",
   "execution_count": 36,
   "metadata": {},
   "outputs": [],
   "source": [
    "lr = 1e-3\n",
    "n_dim = 10\n",
    "model = models.CollaborativeMetricLearning(n_user, n_item, n_dim).to(device)\n",
    "optimizer = optim.Adam(model.parameters(), lr=lr)\n",
    "\n",
    "regs = [regularizers.GlobalOrthogonalRegularizer(weight=1e-3)]\n",
    "criterion = losses.MinTripletLoss(margin=1, regularizers=regs).to(device)\n",
    "sampler = samplers.TwoStageSampler(\n",
    "    train_set, n_user, n_item, \n",
    "    neg_weight=neg_weight, n_neg_samples=5,\n",
    "    device=device, strict_negative=False\n",
    ")\n",
    "\n",
    "score_function_dict = {\n",
    "    \"nDCG\" : evaluators.ndcg,\n",
    "    \"MAP\" : evaluators.average_precision,\n",
    "    \"Recall\": evaluators.recall\n",
    "}\n",
    "evaluator = evaluators.UserwiseEvaluator(test_set, score_function_dict, ks=[3,5])\n",
    "trainer = trainers.CMLTrainer(model, optimizer, criterion, sampler)"
   ]
  },
  {
   "cell_type": "code",
   "execution_count": 37,
   "metadata": {},
   "outputs": [
    {
     "output_type": "stream",
     "name": "stderr",
     "text": [
      "100%|██████████| 943/943 [00:17<00:00, 55.23it/s]\n",
      "epoch1 avg_loss:1.502: 100%|██████████| 256/256 [00:07<00:00, 32.20it/s]\n",
      "epoch2 avg_loss:1.321: 100%|██████████| 256/256 [00:07<00:00, 33.57it/s]\n",
      "epoch3 avg_loss:1.211: 100%|██████████| 256/256 [00:08<00:00, 30.25it/s]\n",
      "epoch4 avg_loss:1.147: 100%|██████████| 256/256 [00:07<00:00, 33.68it/s]\n",
      "epoch5 avg_loss:1.111: 100%|██████████| 256/256 [00:07<00:00, 33.29it/s]\n",
      "epoch6 avg_loss:1.083: 100%|██████████| 256/256 [00:09<00:00, 26.92it/s]\n",
      "epoch7 avg_loss:1.071: 100%|██████████| 256/256 [00:07<00:00, 33.93it/s]\n",
      "epoch8 avg_loss:1.061: 100%|██████████| 256/256 [00:07<00:00, 32.92it/s]\n",
      "epoch9 avg_loss:1.053: 100%|██████████| 256/256 [00:08<00:00, 31.70it/s]\n",
      "epoch10 avg_loss:1.044: 100%|██████████| 256/256 [00:08<00:00, 31.08it/s]\n",
      "100%|██████████| 943/943 [00:16<00:00, 57.75it/s]\n",
      "epoch11 avg_loss:1.040: 100%|██████████| 256/256 [00:07<00:00, 32.89it/s]\n",
      "epoch12 avg_loss:1.032: 100%|██████████| 256/256 [00:09<00:00, 28.05it/s]\n",
      "epoch13 avg_loss:1.029: 100%|██████████| 256/256 [00:07<00:00, 32.40it/s]\n",
      "epoch14 avg_loss:1.025: 100%|██████████| 256/256 [00:08<00:00, 28.82it/s]\n",
      "epoch15 avg_loss:1.019: 100%|██████████| 256/256 [00:09<00:00, 25.82it/s]\n",
      "epoch16 avg_loss:1.016: 100%|██████████| 256/256 [00:09<00:00, 26.78it/s]\n",
      "epoch17 avg_loss:1.013: 100%|██████████| 256/256 [00:09<00:00, 26.46it/s]\n",
      "epoch18 avg_loss:1.010: 100%|██████████| 256/256 [00:08<00:00, 29.98it/s]\n",
      "epoch19 avg_loss:1.006: 100%|██████████| 256/256 [00:09<00:00, 26.39it/s]\n",
      "epoch20 avg_loss:1.006: 100%|██████████| 256/256 [00:07<00:00, 32.96it/s]\n",
      "100%|██████████| 943/943 [00:16<00:00, 58.30it/s]\n"
     ]
    }
   ],
   "source": [
    "trainer.fit(n_batch=256, n_epoch=20, valid_evaluator = evaluator, valid_per_epoch=10)"
   ]
  },
  {
   "cell_type": "code",
   "execution_count": 38,
   "metadata": {},
   "outputs": [
    {
     "output_type": "execute_result",
     "data": {
      "text/plain": [
       "     nDCG@3     MAP@3  Recall@3    nDCG@5     MAP@5  Recall@5  epoch      loss\n",
       "0  0.017962  0.034023  0.001885  0.017329  0.040703  0.003181      0       NaN\n",
       "0  0.225361  0.311594  0.023387  0.219194  0.322207  0.038719     10  1.044481\n",
       "0  0.378223  0.525097  0.057584  0.339713  0.521593  0.078961     20  1.006334"
      ],
      "text/html": "<div>\n<style scoped>\n    .dataframe tbody tr th:only-of-type {\n        vertical-align: middle;\n    }\n\n    .dataframe tbody tr th {\n        vertical-align: top;\n    }\n\n    .dataframe thead th {\n        text-align: right;\n    }\n</style>\n<table border=\"1\" class=\"dataframe\">\n  <thead>\n    <tr style=\"text-align: right;\">\n      <th></th>\n      <th>nDCG@3</th>\n      <th>MAP@3</th>\n      <th>Recall@3</th>\n      <th>nDCG@5</th>\n      <th>MAP@5</th>\n      <th>Recall@5</th>\n      <th>epoch</th>\n      <th>loss</th>\n    </tr>\n  </thead>\n  <tbody>\n    <tr>\n      <th>0</th>\n      <td>0.017962</td>\n      <td>0.034023</td>\n      <td>0.001885</td>\n      <td>0.017329</td>\n      <td>0.040703</td>\n      <td>0.003181</td>\n      <td>0</td>\n      <td>NaN</td>\n    </tr>\n    <tr>\n      <th>0</th>\n      <td>0.225361</td>\n      <td>0.311594</td>\n      <td>0.023387</td>\n      <td>0.219194</td>\n      <td>0.322207</td>\n      <td>0.038719</td>\n      <td>10</td>\n      <td>1.044481</td>\n    </tr>\n    <tr>\n      <th>0</th>\n      <td>0.378223</td>\n      <td>0.525097</td>\n      <td>0.057584</td>\n      <td>0.339713</td>\n      <td>0.521593</td>\n      <td>0.078961</td>\n      <td>20</td>\n      <td>1.006334</td>\n    </tr>\n  </tbody>\n</table>\n</div>"
     },
     "metadata": {},
     "execution_count": 38
    }
   ],
   "source": [
    "trainer.valid_scores"
   ]
  },
  {
   "source": [
    "## model weighted negative sampler"
   ],
   "cell_type": "markdown",
   "metadata": {}
  },
  {
   "cell_type": "code",
   "execution_count": 4,
   "metadata": {},
   "outputs": [],
   "source": [
    "def svd_init(X, dim):\n",
    "    \"\"\"\n",
    "    Args :\n",
    "        X : csr_matrix which element is 0 or 1.\n",
    "        dim : number of dimention\n",
    "    \"\"\"\n",
    "    svd = TruncatedSVD(n_components=10)\n",
    "    U_ = svd.fit_transform(X)\n",
    "    V_ = svd.components_\n",
    "\n",
    "    s = (U_.sum(axis=1).mean() + V_.sum(axis=0).mean()) / 2\n",
    "    U = 2 ** 0.5 * U_ - (1 / n_dim) ** 0.5 * s * np.ones_like(U_)\n",
    "    V = 2 ** 0.5 * V_ + (1 / n_dim) ** 0.5 / s * np.ones_like(V_)\n",
    "    ub = -(2 / n_dim) ** 0.5 * U_.sum(axis=1) / s\n",
    "    vb = (2 / n_dim) ** 0.5 * V_.sum(axis=0) * s\n",
    "\n",
    "    return U, V, ub, vb"
   ]
  },
  {
   "cell_type": "code",
   "execution_count": 5,
   "metadata": {},
   "outputs": [],
   "source": [
    "n_dim = 10\n",
    "X = csr_matrix(\n",
    "    (np.ones(train_set.shape[0]), (train_set[:,0], train_set[:,1])),\n",
    "    shape=[n_user, n_item]\n",
    ")\n",
    "U, V, ub, vb = svd_init(X, n_dim)\n",
    "neg_weight_model = models.LogitMatrixFactorization(\n",
    "    n_user, n_item, n_dim, max_norm=None,\n",
    "    user_embedding_init = torch.Tensor(U), \n",
    "    item_embedding_init = torch.Tensor(V.T),\n",
    "    user_bias_init = torch.Tensor(ub), \n",
    "    item_bias_init = torch.Tensor(vb)\n",
    ").to(device)\n",
    "neg_weight_model.link_weight = lambda x : 1 - torch.sigmoid(x)"
   ]
  },
  {
   "cell_type": "code",
   "execution_count": 6,
   "metadata": {},
   "outputs": [],
   "source": [
    "lr = 1e-3\n",
    "model = models.CollaborativeMetricLearning(n_user, n_item, n_dim).to(device)\n",
    "optimizer = optim.Adam(model.parameters(), lr=lr)\n",
    "criterion = losses.SumTripletLoss(margin=1).to(device)\n",
    "sampler = samplers.BaseSampler(\n",
    "    train_set, n_user, n_item, \n",
    "    neg_weight=neg_weight_model,\n",
    "    device=device, strict_negative=False\n",
    ")\n",
    "\n",
    "score_function_dict = {\n",
    "    \"nDCG\" : evaluators.ndcg,\n",
    "    \"MAP\" : evaluators.average_precision,\n",
    "    \"Recall\": evaluators.recall\n",
    "}\n",
    "evaluator = evaluators.UserwiseEvaluator(test_set, score_function_dict, ks=[3,5])\n",
    "trainer = trainers.CMLTrainer(model, optimizer, criterion, sampler)"
   ]
  },
  {
   "cell_type": "code",
   "execution_count": 7,
   "metadata": {},
   "outputs": [
    {
     "output_type": "stream",
     "name": "stderr",
     "text": [
      "100%|██████████| 943/943 [00:16<00:00, 55.70it/s]\n",
      "epoch1 avg_loss:0.968: 100%|██████████| 256/256 [00:05<00:00, 44.73it/s]\n",
      "epoch2 avg_loss:0.846: 100%|██████████| 256/256 [00:05<00:00, 44.17it/s]\n",
      "epoch3 avg_loss:0.766: 100%|██████████| 256/256 [00:06<00:00, 36.72it/s]\n",
      "epoch4 avg_loss:0.718: 100%|██████████| 256/256 [00:06<00:00, 38.69it/s]\n",
      "epoch5 avg_loss:0.677: 100%|██████████| 256/256 [00:07<00:00, 34.02it/s]\n",
      "epoch6 avg_loss:0.650: 100%|██████████| 256/256 [00:06<00:00, 41.09it/s]\n",
      "epoch7 avg_loss:0.629: 100%|██████████| 256/256 [00:05<00:00, 46.11it/s]\n",
      "epoch8 avg_loss:0.610: 100%|██████████| 256/256 [00:05<00:00, 45.69it/s]\n",
      "epoch9 avg_loss:0.589: 100%|██████████| 256/256 [00:07<00:00, 34.75it/s]\n",
      "epoch10 avg_loss:0.572: 100%|██████████| 256/256 [00:07<00:00, 33.05it/s]\n",
      "100%|██████████| 943/943 [00:19<00:00, 47.84it/s]\n",
      "epoch11 avg_loss:0.555: 100%|██████████| 256/256 [00:07<00:00, 33.20it/s]\n",
      "epoch12 avg_loss:0.539: 100%|██████████| 256/256 [00:06<00:00, 39.77it/s]\n",
      "epoch13 avg_loss:0.521: 100%|██████████| 256/256 [00:06<00:00, 40.92it/s]\n",
      "epoch14 avg_loss:0.507: 100%|██████████| 256/256 [00:06<00:00, 41.77it/s]\n",
      "epoch15 avg_loss:0.489: 100%|██████████| 256/256 [00:06<00:00, 41.66it/s]\n",
      "epoch16 avg_loss:0.479: 100%|██████████| 256/256 [00:06<00:00, 40.17it/s]\n",
      "epoch17 avg_loss:0.466: 100%|██████████| 256/256 [00:05<00:00, 43.27it/s]\n",
      "epoch18 avg_loss:0.452: 100%|██████████| 256/256 [00:06<00:00, 38.08it/s]\n",
      "epoch19 avg_loss:0.440: 100%|██████████| 256/256 [00:07<00:00, 36.39it/s]\n",
      "epoch20 avg_loss:0.430: 100%|██████████| 256/256 [00:06<00:00, 38.09it/s]\n",
      "100%|██████████| 943/943 [00:20<00:00, 45.11it/s]\n"
     ]
    }
   ],
   "source": [
    "trainer.fit(n_batch=256, n_epoch=20, valid_evaluator = evaluator, valid_per_epoch=10)"
   ]
  },
  {
   "cell_type": "code",
   "execution_count": 8,
   "metadata": {},
   "outputs": [
    {
     "output_type": "execute_result",
     "data": {
      "text/plain": [
       "     nDCG@3     MAP@3  Recall@3   nDCG@5     MAP@5  Recall@5  epoch      loss\n",
       "0  0.016209  0.030399  0.001955  0.01690  0.038264  0.003477      0       NaN\n",
       "0  0.051292  0.078208  0.004285  0.05536  0.094836  0.007510     10  0.572125\n",
       "0  0.233268  0.322552  0.030232  0.23401  0.336276  0.049536     20  0.430135"
      ],
      "text/html": "<div>\n<style scoped>\n    .dataframe tbody tr th:only-of-type {\n        vertical-align: middle;\n    }\n\n    .dataframe tbody tr th {\n        vertical-align: top;\n    }\n\n    .dataframe thead th {\n        text-align: right;\n    }\n</style>\n<table border=\"1\" class=\"dataframe\">\n  <thead>\n    <tr style=\"text-align: right;\">\n      <th></th>\n      <th>nDCG@3</th>\n      <th>MAP@3</th>\n      <th>Recall@3</th>\n      <th>nDCG@5</th>\n      <th>MAP@5</th>\n      <th>Recall@5</th>\n      <th>epoch</th>\n      <th>loss</th>\n    </tr>\n  </thead>\n  <tbody>\n    <tr>\n      <th>0</th>\n      <td>0.016209</td>\n      <td>0.030399</td>\n      <td>0.001955</td>\n      <td>0.01690</td>\n      <td>0.038264</td>\n      <td>0.003477</td>\n      <td>0</td>\n      <td>NaN</td>\n    </tr>\n    <tr>\n      <th>0</th>\n      <td>0.051292</td>\n      <td>0.078208</td>\n      <td>0.004285</td>\n      <td>0.05536</td>\n      <td>0.094836</td>\n      <td>0.007510</td>\n      <td>10</td>\n      <td>0.572125</td>\n    </tr>\n    <tr>\n      <th>0</th>\n      <td>0.233268</td>\n      <td>0.322552</td>\n      <td>0.030232</td>\n      <td>0.23401</td>\n      <td>0.336276</td>\n      <td>0.049536</td>\n      <td>20</td>\n      <td>0.430135</td>\n    </tr>\n  </tbody>\n</table>\n</div>"
     },
     "metadata": {},
     "execution_count": 8
    }
   ],
   "source": [
    "trainer.valid_scores"
   ]
  },
  {
   "cell_type": "code",
   "execution_count": null,
   "metadata": {},
   "outputs": [],
   "source": []
  }
 ],
 "metadata": {
  "kernelspec": {
   "name": "python386jvsc74a57bd0a5a0c39373d96a87cc399fa7087b287d0958347ac1f7dfc9bbd735675b2536e2",
   "display_name": "Python 3.8.6 64-bit ('pytorchcml-MJCCLiEQ-py3.8': venv)",
   "language": "python"
  },
  "language_info": {
   "codemirror_mode": {
    "name": "ipython",
    "version": 3
   },
   "file_extension": ".py",
   "mimetype": "text/x-python",
   "name": "python",
   "nbconvert_exporter": "python",
   "pygments_lexer": "ipython3",
   "version": "3.8.6"
  }
 },
 "nbformat": 4,
 "nbformat_minor": 4
}